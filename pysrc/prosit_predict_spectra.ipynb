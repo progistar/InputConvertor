{
 "cells": [
  {
   "cell_type": "code",
   "execution_count": 214,
   "id": "115ecd74-2b30-4580-aa96-30ba4381f02a",
   "metadata": {},
   "outputs": [],
   "source": [
    "import os\n",
    "import pandas as pd\n",
    "import re\n",
    "import numpy as np\n",
    "import time\n",
    "import tritonclient.grpc as grpcclient\n",
    "from tqdm import tqdm\n",
    "import openpyxl"
   ]
  },
  {
   "cell_type": "code",
   "execution_count": 215,
   "id": "0fee0f22-2750-4099-a6af-471e8f8fa64f",
   "metadata": {},
   "outputs": [],
   "source": [
    "def set_il_ic_peptide(df):\n",
    "    il_peptides = []\n",
    "    for index, record in df.iterrows():\n",
    "        ic_peptide = record['ic_peptide']\n",
    "        in_peptide = record['InferredPeptide']\n",
    "    \n",
    "        ## select only I or L characters in the inferred peptide\n",
    "        il_only = re.sub(r'[^IL]', '', in_peptide)\n",
    "        if len(il_only) != 0:\n",
    "            il_idx = 0\n",
    "            il_str = ''\n",
    "            for idx in range(len(ic_peptide)):\n",
    "                if ic_peptide[idx] == 'I' or ic_peptide[idx] == 'L':\n",
    "                    il_str += il_only[il_idx]\n",
    "                    il_idx = il_idx+1\n",
    "                else:\n",
    "                    il_str += ic_peptide[idx]\n",
    "    \n",
    "            ## reflect I/L characters to ic_peptide\n",
    "            ic_peptide = il_str\n",
    "    \n",
    "        il_peptides.append(ic_peptide)\n",
    "    df['ic_peptide'] = il_peptides\n"
   ]
  },
  {
   "cell_type": "code",
   "execution_count": 216,
   "id": "3f2c59b9-24a1-48e8-bdfc-0a923d7a2ccc",
   "metadata": {},
   "outputs": [],
   "source": [
    "def generate_prosit_input_array(df, ce):\n",
    "    set_il_ic_peptide(df)\n",
    "    peptides = []\n",
    "    charges = []\n",
    "    ces = []\n",
    "    for index, record in df.iterrows():\n",
    "        ## some modifications here\n",
    "        ic_peptide = record['ic_peptide']\n",
    "        charge = record['ic_charge']\n",
    "        ic_peptide = re.sub('\\+15.995', '[UNIMOD:35]', ic_peptide)\n",
    "        ic_peptide = re.sub('\\+57.021', '[UNIMOD:4]', ic_peptide)\n",
    "\n",
    "        if '+' in ic_peptide or '-' in ic_peptide:\n",
    "            charge = -1\n",
    "        \n",
    "        peptides.append(ic_peptide)\n",
    "        charges.append(charge)\n",
    "        ces.append(ce)\n",
    "\n",
    "\n",
    "    df['prosit_peptide_sequences'] = peptides\n",
    "    df['prosit_precursor_charges'] = charges\n",
    "    df['prosit_collision_energies'] = ces\n",
    "    df = df.drop_duplicates(subset=['prosit_peptide_sequences','prosit_precursor_charges','prosit_collision_energies'])\n",
    "    df = df[df['prosit_precursor_charges'] > 0]\n",
    "    \n",
    "    inputs = { \n",
    "        'peptide_sequences': np.array(df['prosit_peptide_sequences'], dtype=np.dtype(\"O\")).reshape(-1,1),\n",
    "        'precursor_charges': np.array(df['prosit_precursor_charges'], dtype=np.dtype(\"int32\")).reshape(-1,1),\n",
    "        'collision_energies': np.array(df['prosit_collision_energies'], dtype=np.dtype(\"float32\")).reshape(-1,1),\n",
    "    }\n",
    "    \n",
    "    return(df, inputs)\n"
   ]
  },
  {
   "cell_type": "code",
   "execution_count": 234,
   "id": "2b87b2f9-cd79-454a-8908-526929ab9b1a",
   "metadata": {},
   "outputs": [],
   "source": [
    "def write_mgf(predictions, file_name):\n",
    "    with open(file_name, 'w') as file:\n",
    "        for idx in range(len(predictions['peptide_sequences'])):\n",
    "            ## Drop zero peaks\n",
    "            mz_array = predictions['mz'][idx][predictions['intensities'][idx] > 0.0001]\n",
    "            int_array = predictions['intensities'][idx][predictions['intensities'][idx] > 0.0001]\n",
    "            charge = \"\".join(map(str, predictions['precursor_charges'][idx]))\n",
    "            file.write(\"BEGIN IONS\\n\")\n",
    "            file.write(\"TITLE=\")\n",
    "            file.write(\"\".join(predictions['peptide_sequences'][idx]))\n",
    "            file.write(\"|\")\n",
    "            file.write(charge)\n",
    "            file.write(\"\\n\")\n",
    "            file.write(\"CHARGE=\")\n",
    "            file.write(charge)\n",
    "            file.write(\"+\\n\")\n",
    "            for idx2 in range(len(mz_array)):\n",
    "                file.write(str(f\"{mz_array[idx2]:.4f}\"))\n",
    "                file.write(\"\\t\")\n",
    "                file.write(str(f\"{1000 * int_array[idx2]:.4f}\"))\n",
    "                file.write(\"\\n\")\n",
    "            file.write(\"END IONS\\n\")"
   ]
  },
  {
   "cell_type": "code",
   "execution_count": 235,
   "id": "7dcb2992-f29a-447c-96eb-04e5b53c1c1e",
   "metadata": {},
   "outputs": [],
   "source": [
    "#model_name = 'Prosit_2023_intensity_timsTOF'\n",
    "#model_name = 'Prosit_2020_intensity_HCD'\n",
    "def predict_save_spectra(pXg_file, model_name, ce, output_file, server_url = 'koina.proteomicsdb.org:443'):\n",
    "    ## Load pXg file\n",
    "    df = pd.read_csv(pXg_file, delimiter='\\t')\n",
    "\n",
    "    \n",
    "    nptype_convert = {\n",
    "        np.dtype('float32'): 'FP32',\n",
    "        np.dtype('O'): 'BYTES',\n",
    "        np.dtype('int16'): 'INT16',\n",
    "        np.dtype('int32'): 'INT32',\n",
    "        np.dtype('int64'): 'INT64',\n",
    "    }\n",
    "    \n",
    "    #server_url = 'koina.proteomicsdb.org:443'\n",
    "    batch_size = 1000\n",
    "    \n",
    "    ## This is real\n",
    "    df, inputs = generate_prosit_input_array(df, ce)\n",
    "    \n",
    "    outputs = [ 'intensities',  'mz',  'annotation' ]\n",
    "    \n",
    "    triton_client = grpcclient.InferenceServerClient(url=server_url, ssl=True)\n",
    "    \n",
    "    koina_outputs = []\n",
    "    for name in outputs:\n",
    "        koina_outputs.append(grpcclient.InferRequestedOutput(name))\n",
    "    \n",
    "    predictions = {name: [] for name in outputs}\n",
    "    len_inputs = list(inputs.values())[0].shape[0]\n",
    "    \n",
    "    ## print model_name\n",
    "    print(\"Prosit model information:\", model_name)\n",
    "    print(\"The number of inputs:\", len(df))\n",
    "    \n",
    "    for i in tqdm(range(0, len_inputs, batch_size), desc=\"Processing\", unit=\"iteration\"):\n",
    "        koina_inputs = []\n",
    "        for iname, iarr in inputs.items():\n",
    "            islice = iarr[i:i+batch_size]\n",
    "            koina_inputs.append(\n",
    "                grpcclient.InferInput(iname, islice.shape, nptype_convert[iarr.dtype])\n",
    "            )\n",
    "            koina_inputs[-1].set_data_from_numpy(islice)\n",
    "    \n",
    "        prediction = triton_client.infer(model_name, inputs=koina_inputs, outputs=koina_outputs)\n",
    "    \n",
    "        for name in outputs:\n",
    "            predictions[name].append(prediction.as_numpy(name))\n",
    "    \n",
    "    ## aggreggate\n",
    "    predictions['intensities'] = np.vstack(predictions['intensities']).astype(float)\n",
    "    predictions['mz'] = np.vstack(predictions['mz']).astype(float)\n",
    "    predictions['annotation'] = np.vstack(predictions['annotation'])\n",
    "    predictions['peptide_sequences'] = np.vstack(inputs['peptide_sequences'])\n",
    "    predictions['precursor_charges'] = np.vstack(inputs['precursor_charges'])\n",
    "    predictions['collision_energies'] = np.vstack(inputs['collision_energies'])\n",
    "    write_mgf(predictions, output_file)\n"
   ]
  },
  {
   "cell_type": "code",
   "execution_count": 237,
   "id": "23c991c5-22b3-49c2-bbcc-09fb638400bd",
   "metadata": {},
   "outputs": [
    {
     "name": "stdout",
     "output_type": "stream",
     "text": [
      "Prosit model information: Prosit_2023_intensity_timsTOF\n",
      "The number of inputs: 45450\n"
     ]
    },
    {
     "name": "stderr",
     "output_type": "stream",
     "text": [
      "Processing: 100%|███████████████████████████████████████████████████████████████████████████████| 46/46 [00:44<00:00,  1.03iteration/s]\n"
     ]
    },
    {
     "name": "stdout",
     "output_type": "stream",
     "text": [
      "Prosit model information: Prosit_2023_intensity_timsTOF\n",
      "The number of inputs: 55674\n"
     ]
    },
    {
     "name": "stderr",
     "output_type": "stream",
     "text": [
      "Processing: 100%|███████████████████████████████████████████████████████████████████████████████| 56/56 [00:54<00:00,  1.03iteration/s]\n"
     ]
    },
    {
     "name": "stdout",
     "output_type": "stream",
     "text": [
      "Prosit model information: Prosit_2023_intensity_timsTOF\n",
      "The number of inputs: 48048\n"
     ]
    },
    {
     "name": "stderr",
     "output_type": "stream",
     "text": [
      "Processing: 100%|███████████████████████████████████████████████████████████████████████████████| 49/49 [00:47<00:00,  1.03iteration/s]\n"
     ]
    },
    {
     "name": "stdout",
     "output_type": "stream",
     "text": [
      "Prosit model information: Prosit_2023_intensity_timsTOF\n",
      "The number of inputs: 80448\n"
     ]
    },
    {
     "name": "stderr",
     "output_type": "stream",
     "text": [
      "Processing: 100%|███████████████████████████████████████████████████████████████████████████████| 81/81 [01:17<00:00,  1.04iteration/s]\n"
     ]
    },
    {
     "name": "stdout",
     "output_type": "stream",
     "text": [
      "Prosit model information: Prosit_2023_intensity_timsTOF\n",
      "The number of inputs: 75421\n"
     ]
    },
    {
     "name": "stderr",
     "output_type": "stream",
     "text": [
      "Processing: 100%|███████████████████████████████████████████████████████████████████████████████| 76/76 [01:09<00:00,  1.10iteration/s]\n"
     ]
    },
    {
     "name": "stdout",
     "output_type": "stream",
     "text": [
      "Prosit model information: Prosit_2023_intensity_timsTOF\n",
      "The number of inputs: 79248\n"
     ]
    },
    {
     "name": "stderr",
     "output_type": "stream",
     "text": [
      "Processing: 100%|███████████████████████████████████████████████████████████████████████████████| 80/80 [01:11<00:00,  1.12iteration/s]\n"
     ]
    },
    {
     "name": "stdout",
     "output_type": "stream",
     "text": [
      "Prosit model information: Prosit_2023_intensity_timsTOF\n",
      "The number of inputs: 95984\n"
     ]
    },
    {
     "name": "stderr",
     "output_type": "stream",
     "text": [
      "Processing: 100%|███████████████████████████████████████████████████████████████████████████████| 96/96 [01:25<00:00,  1.13iteration/s]\n"
     ]
    },
    {
     "name": "stdout",
     "output_type": "stream",
     "text": [
      "Prosit model information: Prosit_2023_intensity_timsTOF\n",
      "The number of inputs: 80858\n"
     ]
    },
    {
     "name": "stderr",
     "output_type": "stream",
     "text": [
      "Processing: 100%|███████████████████████████████████████████████████████████████████████████████| 81/81 [01:15<00:00,  1.07iteration/s]\n"
     ]
    }
   ],
   "source": [
    "import glob\n",
    "if __name__ == \"__main__\":\n",
    "    folder=\"/Users/seunghyukchoi/Documents/1_Projects/2023_Spliceosome/1.Search/1.All_pXg\"\n",
    "    \n",
    "    model_name='Prosit_2023_intensity_timsTOF'\n",
    "    for file in glob.glob(os.path.join(folder, 'Bruker_*.pXg')):\n",
    "        input_file = file\n",
    "        output_file = input_file.replace(\".pXg\", \".\"+model_name+\".mgf\")\n",
    "        predict_save_spectra(input_file, model_name, 25, output_file)\n",
    "\n",
    "    if(False):\n",
    "        model_name='Prosit_2020_intensity_HCD'\n",
    "        for file in glob.glob(os.path.join(folder, 'Thermo_*.pXg')):\n",
    "            input_file = file\n",
    "            output_file = input_file.replace(\".pXg\", \".\"+model_name+\".mgf\")\n",
    "            predict_save_spectra(input_file, model_name, 30, output_file)\n",
    "            \n",
    "        for file in glob.glob(os.path.join(folder, 'BCM_*.pXg')):\n",
    "            input_file = file\n",
    "            output_file = input_file.replace(\".pXg\", \".\"+model_name+\".mgf\")\n",
    "            predict_save_spectra(input_file, model_name, 30, output_file)"
   ]
  },
  {
   "cell_type": "code",
   "execution_count": null,
   "id": "e43a1456-f206-4b5b-a369-a1527e6cee84",
   "metadata": {},
   "outputs": [],
   "source": []
  }
 ],
 "metadata": {
  "kernelspec": {
   "display_name": "prosit",
   "language": "python",
   "name": "prosit"
  },
  "language_info": {
   "codemirror_mode": {
    "name": "ipython",
    "version": 3
   },
   "file_extension": ".py",
   "mimetype": "text/x-python",
   "name": "python",
   "nbconvert_exporter": "python",
   "pygments_lexer": "ipython3",
   "version": "3.8.18"
  }
 },
 "nbformat": 4,
 "nbformat_minor": 5
}
